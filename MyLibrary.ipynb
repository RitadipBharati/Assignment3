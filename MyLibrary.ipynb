{
 "cells": [
  {
   "cell_type": "code",
   "execution_count": 1,
   "metadata": {},
   "outputs": [],
   "source": [
    "import copy         #to copy lists and store in complete new list"
   ]
  },
  {
   "cell_type": "code",
   "execution_count": 2,
   "metadata": {},
   "outputs": [],
   "source": [
    "def Display(k):#creating function for displaying matrix(It Shows every row with , delimiter)\n",
    "    if k is not None:          #checking if input is None \n",
    "        for m in range(len(k)):\n",
    "            print(k[m])"
   ]
  },
  {
   "cell_type": "code",
   "execution_count": 3,
   "metadata": {},
   "outputs": [],
   "source": [
    "def Round(n, decimals = 0):    #customized round function.\n",
    "    multiplier = 10 ** decimals\n",
    "    if n>=0:\n",
    "        m=int(n*multiplier + 0.5) / multiplier\n",
    "    else:\n",
    "        m=int(n*multiplier - 0.5) / multiplier\n",
    "    return m\n",
    "Round(-16.9999,2)"
   ]
  },
  {
   "cell_type": "code",
   "execution_count": 4,
   "metadata": {},
   "outputs": [],
   "source": [
    "def SwapRows(a,n,m):          #function for swapping rows\n",
    "    a[n],a[m]=a[m],a[n]\n",
    "    return a\n",
    "#SwapRows(B,1,2)"
   ]
  },
  {
   "cell_type": "code",
   "execution_count": 5,
   "metadata": {},
   "outputs": [],
   "source": [
    "def PartialPivot(Ab,m,nrows):\n",
    "    pivot = Ab[m][m]    #finding The pivot\n",
    "    if (Ab[m][m] != 0):\n",
    "        return Ab    # return if partial pivoting is not required\n",
    "    else:\n",
    "        x=[]\n",
    "        for r in range(m+1,nrows):\n",
    "            x.append(Ab[r][m])\n",
    "        for r in range(m+1,nrows):\n",
    "            # check for maximum non-zero pivot and swap rows with it\n",
    "            if Ab[r][m]==max(x):\n",
    "                pivot = Ab[r][m]\n",
    "                Ab=SwapRows(Ab,m,r)\n",
    "                return Ab\n",
    "            else:\n",
    "                r+=1\n",
    "    if (pivot==0):    # no unique solution case\n",
    "        return None\n",
    "    \n",
    "    \n",
    "        \n",
    "                        \n",
    "\n",
    "#PartialPivot(B,0,4)"
   ]
  },
  {
   "cell_type": "code",
   "execution_count": 6,
   "metadata": {},
   "outputs": [],
   "source": [
    "def GaussJordan(Ab,nrows,ncols):\n",
    "    det=1\n",
    "    r=0\n",
    "    for r in range(0,nrows):\n",
    "        Ab = PartialPivot(Ab,r,nrows) # does partial pivoting\n",
    "        \n",
    "        if Ab==None:\n",
    "            return Ab                # no solution case\n",
    "        else:\n",
    "            fact=Ab[r][r]             #store and multiply diagonal elements\n",
    "            det=det*fact           # calculate the determinant\n",
    "            for c in range(r,ncols):\n",
    "                Ab[r][c]*=1/fact# Changes the diagonal elements to unity, and do same operation in row\n",
    "            for r1 in range(0,nrows):\n",
    "                if (r1==r or Ab[r1][r]==0):\n",
    "                    r1+=1                # does not change if it is already done\n",
    "                else:\n",
    "                    factor = Ab[r1][r]\n",
    "                    for c in range(r,ncols):\n",
    "                        Ab[r1][c]-= factor * Ab[r][c]# Changes the off-diagonal elements to zero\n",
    "    return Ab, det\n",
    "def RoundMatrix(M,r):\n",
    "    for i in range(len(M)):\n",
    "        for j in range(len(M[0])):\n",
    "            M[i][j]=Round(M[i][j],r)\n",
    "    return M\n"
   ]
  },
  {
   "cell_type": "code",
   "execution_count": 7,
   "metadata": {},
   "outputs": [],
   "source": [
    "def EqnSolver(A,B,nrows):\n",
    "    ncols=len(A[0])+len(B[0])\n",
    "    Ab=copy.deepcopy(A)\n",
    "    for i in range(len(Ab)):\n",
    "        for j in range(len(B[0])):\n",
    "            Ab[i].append(B[i][j])   #function for solving equations\n",
    "    GJ, d=GaussJordan(Ab,nrows,ncols)    #doing Gauss-Jordan elimination\n",
    "    if GJ!=None:\n",
    "        M=RoundMatrix(GJ,2)\n",
    "        print(\"Solutions are : \")\n",
    "        for i in range(nrows):\n",
    "            print(M[i][nrows])      #printing solution\n",
    "    else:\n",
    "        print(\"No unique solution\")  #printing if no unique solution\n",
    "\n",
    "#A2=[[0,2,-3],[1,0,1],[1,-1,0]]\n",
    "#B2=[[-1],[0],[3]]\n",
    "#EqnSolver(A2,B2,3)"
   ]
  },
  {
   "cell_type": "code",
   "execution_count": 8,
   "metadata": {},
   "outputs": [],
   "source": [
    "def InverseMatrix(P):             #function for inverse\n",
    "    A = copy.deepcopy(P)            #copying P in A without equality\n",
    "    for i in range(len(A)):\n",
    "        for j in range(len(A)):\n",
    "            A[i].append(0)\n",
    "        A[i][i+len(A)]=1            #building augmented matrix\n",
    "    r=len(A)\n",
    "    c=len(A[0])\n",
    "    if len(P)!=len(P[0]):            #checking if the input matrix is square.\n",
    "        return(\"This is not a square matrix.\")\n",
    "    else:\n",
    "        GJ, d=GaussJordan(A,r,c)         #doing Gauss-Jordan elimination\n",
    "        M=[[0 for j in range(r)] for i in range(r)] #making final matrix\n",
    "        if d!=0:\n",
    "            for i in range(r):\n",
    "                for j in range(r,c):\n",
    "                    M[i][j-r]=GJ[i][j]       #putting Gauss-Jordan result in final matrix\n",
    "            return(RoundMatrix(M,2))\n",
    "        else:\n",
    "            return(\"The matrix is not invertible.\")\n",
    "#A3=[[0,2,1],[4,0,1],[-1,2,0]]\n",
    "#Inv=InverseMatrix(A3)\n",
    "#Display(Inv)\n",
    "\n"
   ]
  },
  {
   "cell_type": "code",
   "execution_count": 9,
   "metadata": {},
   "outputs": [],
   "source": [
    "def MATMULT(a,b):                     #function for matrix multiplication \n",
    "    M=[]\n",
    "    if len(b)==len(a[0]):              #check if the input matrices are matrix multiplicable or not.\n",
    "        for m in range(len(a)):\n",
    "            M.append([])\n",
    "            for n in range(len(b[0])):\n",
    "                M[m].append(0)\n",
    "        for i in range(len(a)):\n",
    "            for j in range(len(b[0])):\n",
    "                for k in range(len(b)):\n",
    "                    M[i][j] += a[i][k] * b[k][j]\n",
    "        return(M)\n",
    "    else:\n",
    "        print(\"Inputs are dimentionally incorrect.\")\n",
    "        return"
   ]
  },
  {
   "cell_type": "code",
   "execution_count": null,
   "metadata": {},
   "outputs": [],
   "source": []
  },
  {
   "cell_type": "code",
   "execution_count": null,
   "metadata": {},
   "outputs": [],
   "source": []
  }
 ],
 "metadata": {
  "kernelspec": {
   "display_name": "Python 3",
   "language": "python",
   "name": "python3"
  },
  "language_info": {
   "codemirror_mode": {
    "name": "ipython",
    "version": 3
   },
   "file_extension": ".py",
   "mimetype": "text/x-python",
   "name": "python",
   "nbconvert_exporter": "python",
   "pygments_lexer": "ipython3",
   "version": "3.7.6"
  }
 },
 "nbformat": 4,
 "nbformat_minor": 4
}
