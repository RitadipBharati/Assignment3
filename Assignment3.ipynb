{
 "cells": [
  {
   "cell_type": "code",
   "execution_count": 1,
   "metadata": {},
   "outputs": [
    {
     "name": "stdout",
     "output_type": "stream",
     "text": [
      "importing Jupyter notebook from MyLibrary.ipynb\n"
     ]
    }
   ],
   "source": [
    "import import_ipynb\n",
    "from MyLibrary import *        #Importing My library"
   ]
  },
  {
   "cell_type": "code",
   "execution_count": 2,
   "metadata": {},
   "outputs": [
    {
     "name": "stdout",
     "output_type": "stream",
     "text": [
      "Solutions are : \n",
      "2.0\n",
      "0.0\n",
      "6.0\n",
      "5.0\n"
     ]
    }
   ],
   "source": [
    "#Q1. Use Gauss-Jordon elimination to find the solution \n",
    "#of the following system of linearequations, [2]\n",
    "#x + y + z + w = 13\n",
    "#2x + 3y − w = −1\n",
    "#−3x + 4y + z + 2w = 10\n",
    "#x + 2y − z + w = 1\n",
    "\n",
    "A1=[[1,1,1,1],[2,3,0,-1],[-3,4,1,2],[1,2,-1,1]]\n",
    "B1=[[13],[-1],[10],[1]]\n",
    "EqnSolver(A1,B1,4)"
   ]
  },
  {
   "cell_type": "code",
   "execution_count": 3,
   "metadata": {},
   "outputs": [
    {
     "name": "stdout",
     "output_type": "stream",
     "text": [
      "Solutions are : \n",
      "1.0\n",
      "-2.0\n",
      "-1.0\n"
     ]
    }
   ],
   "source": [
    "#Q2. Use Gauss-Jordon elimination to find the solution \n",
    "#of the following system of linear equations, [3]\n",
    "#2y − 3z = −1\n",
    "#x + z = 0\n",
    "#x − y = 3\n",
    "A2=[[0,2,-3],[1,0,1],[1,-1,0]]\n",
    "B2=[[-1],[0],[3]]\n",
    "EqnSolver(A2,B2,3)"
   ]
  },
  {
   "cell_type": "code",
   "execution_count": 4,
   "metadata": {},
   "outputs": [
    {
     "name": "stdout",
     "output_type": "stream",
     "text": [
      "Inverse Matrix is:\n",
      "[-0.33, 0.33, 0.33]\n",
      "[-0.17, 0.17, 0.67]\n",
      "[1.33, -0.33, -1.33]\n",
      "Verification: The product of A3 and A3^(-1) is\n",
      "[1.0, 0.0, 0.0]\n",
      "[0.0, 1.0, 0.0]\n",
      "[0.0, 0.0, 1.0]\n"
     ]
    }
   ],
   "source": [
    "#Find the inverse of the following invertible matrix using \n",
    "#Gauss-Jordon elimina-tion. Keep only up to 2 places in \n",
    "#decimal. Verify that your solution is indeed the inverse \n",
    "#of the given matrix. [3]\n",
    "\n",
    "#[[0 2 1]\n",
    "# [4 0 1]\n",
    "#[−1 2 0]]\n",
    "\n",
    "\n",
    "A3=[[0,2,1],[4,0,1],[-1,2,0]]\n",
    "Inv=InverseMatrix(A3)\n",
    "print(\"Inverse Matrix is:\")\n",
    "Display(Inv)\n",
    "print(\"Verification: The product of A3 and A3^(-1) is\")\n",
    "\n",
    "Display(RoundMatrix(MATMULT(A3,Inv),1))\n",
    "    "
   ]
  },
  {
   "cell_type": "code",
   "execution_count": 5,
   "metadata": {},
   "outputs": [
    {
     "name": "stdout",
     "output_type": "stream",
     "text": [
      "The determinant is 65.0\n"
     ]
    }
   ],
   "source": [
    "#Use Gauss-Jordon elimination to determine the determinant of the matrix, [2]\n",
    "#[[1 4 2 3]\n",
    "# [0 1 4 4]\n",
    "#[−1 0 1 0]\n",
    "# [2 0 4 1]]\n",
    "\n",
    "A4=[[1,4,2,3],[0,1,4,4],[-1,0,1,0],[2,0,4,1]]\n",
    "GJ,det= GaussJordan(A4,4,4)\n",
    "print(\"The determinant is \"+ str(det))"
   ]
  },
  {
   "cell_type": "code",
   "execution_count": null,
   "metadata": {},
   "outputs": [],
   "source": []
  }
 ],
 "metadata": {
  "kernelspec": {
   "display_name": "Python 3",
   "language": "python",
   "name": "python3"
  },
  "language_info": {
   "codemirror_mode": {
    "name": "ipython",
    "version": 3
   },
   "file_extension": ".py",
   "mimetype": "text/x-python",
   "name": "python",
   "nbconvert_exporter": "python",
   "pygments_lexer": "ipython3",
   "version": "3.7.6"
  }
 },
 "nbformat": 4,
 "nbformat_minor": 4
}
